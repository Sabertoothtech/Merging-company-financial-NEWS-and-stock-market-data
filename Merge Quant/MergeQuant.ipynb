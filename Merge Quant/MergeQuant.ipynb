{
 "cells": [
  {
   "cell_type": "markdown",
   "metadata": {},
   "source": [
    "# Merge quant data into one file\n",
    "Here we have stock data for various companies. We are merging them into one file by including their respective names."
   ]
  },
  {
   "cell_type": "code",
   "execution_count": null,
   "metadata": {},
   "outputs": [],
   "source": [
    "#Merge Quant\n",
    "import csv\n",
    "import os\n",
    "new = open(r'Nifty50Quant.csv','a',newline='',encoding='ISO-8859-1')\n",
    "writ=csv.writer(new)\n",
    "writ.writerow(['CompanyName','Time','Open','High','Low','Close','Volume'])\n",
    "news_files = [(y[2]) for y in os.walk(r'C:\\Users\\T\\Desktop\\Saber\\Merging quant and news\\Merge Quant')]\n",
    "s = news_files[0]\n",
    "for j in s:\n",
    "    news = open(r\"C:\\Users\\T\\Desktop\\Saber\\Merging quant and news\\Merge Quant\\\\\"+j,'r',encoding='ISO-8859-1')\n",
    "    read= csv.reader(news)\n",
    "    next(read,None)\n",
    "    for n in read:\n",
    "        writ.writerow([j[:-4],n[1],n[2],n[3],n[4],n[5],n[6]])"
   ]
  },
  {
   "cell_type": "code",
   "execution_count": null,
   "metadata": {},
   "outputs": [],
   "source": [
    "new.close()"
   ]
  }
 ],
 "metadata": {
  "kernelspec": {
   "display_name": "Python 3",
   "language": "python",
   "name": "python3"
  },
  "language_info": {
   "codemirror_mode": {
    "name": "ipython",
    "version": 3
   },
   "file_extension": ".py",
   "mimetype": "text/x-python",
   "name": "python",
   "nbconvert_exporter": "python",
   "pygments_lexer": "ipython3",
   "version": "3.6.4"
  }
 },
 "nbformat": 4,
 "nbformat_minor": 2
}
